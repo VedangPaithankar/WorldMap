{
 "cells": [
  {
   "cell_type": "code",
   "execution_count": 4,
   "id": "c1b571d2",
   "metadata": {},
   "outputs": [],
   "source": [
    "import folium\n",
    "import pandas\n",
    "\n",
    "WorldMap = folium.Map(location=[21.5937,78.9629], zoom_start=5, tiles = \"Stamen Terrain\")\n",
    "vol_data = pandas.read_excel(\"AKvolclatlong.xlsx\", sheet_name=0)\n",
    "con_data = pandas.read_excel(\"world_country_and_usa_states_latitude_and_longitude_values.xlsx\", sheet_name=0)\n",
    "\n",
    "con_lat = list(con_data[\"latitude\"])\n",
    "con_lon = list(con_data[\"longitude\"])\n",
    "con_nam = list(con_data[\"country\"])\n",
    "vol_lat = list(vol_data[\"Latitude\"])\n",
    "vol_lon = list(vol_data[\"Longitude\"])\n",
    "vol_nam = list(vol_data[\"Volcano\"])\n",
    "\n",
    "feature_group=folium.FeatureGroup(name=\"My Map\")\n",
    "\n",
    "for i in range (0,len(vol_lat)):\n",
    "    feature_group.add_child(folium.CircleMarker(location=[vol_lat[i],vol_lon[i]], popup=vol_nam[i], radius=4, fill=True, color='red', fill_opacity=0.6))\n",
    "    feature_group.add_child(folium.CircleMarker(location=[con_lat[i],con_lon[i]], popup=con_nam[i], radius=4, fill=True, color='blue', fill_opacity=0.6))\n",
    "\n",
    "feature_group.add_child(folium.GeoJson(data=open('world.json','r', encoding='utf-8-sig').read()))    \n",
    "\n",
    "WorldMap.add_child(feature_group)\n",
    "WorldMap.save(\"WorldMap.html\")"
   ]
  },
  {
   "cell_type": "code",
   "execution_count": null,
   "id": "0c7bff52",
   "metadata": {},
   "outputs": [],
   "source": []
  }
 ],
 "metadata": {
  "kernelspec": {
   "display_name": "Python 3",
   "language": "python",
   "name": "python3"
  },
  "language_info": {
   "codemirror_mode": {
    "name": "ipython",
    "version": 3
   },
   "file_extension": ".py",
   "mimetype": "text/x-python",
   "name": "python",
   "nbconvert_exporter": "python",
   "pygments_lexer": "ipython3",
   "version": "3.11.1 (tags/v3.11.1:a7a450f, Dec  6 2022, 19:58:39) [MSC v.1934 64 bit (AMD64)]"
  },
  "vscode": {
   "interpreter": {
    "hash": "03eb6977dfbe468bce87c184045339029bbaa64e3ea996c454468bf4a3e935ad"
   }
  }
 },
 "nbformat": 4,
 "nbformat_minor": 5
}
